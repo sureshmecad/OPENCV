{
  "nbformat": 4,
  "nbformat_minor": 0,
  "metadata": {
    "colab": {
      "name": "6_OpenCV_Preprocessing.ipynb",
      "provenance": [],
      "collapsed_sections": []
    },
    "kernelspec": {
      "name": "python3",
      "display_name": "Python 3"
    },
    "language_info": {
      "name": "python"
    }
  },
  "cells": [
    {
      "cell_type": "markdown",
      "metadata": {
        "id": "kdRtpaDUyBxd"
      },
      "source": [
        "#### **Image Pre-processing through OpenCV**"
      ]
    },
    {
      "cell_type": "markdown",
      "metadata": {
        "id": "IIiqeexAyGrX"
      },
      "source": [
        "#### **Table of content:**\n",
        "\n",
        "1) Image Thresholding\n",
        "\n",
        "- Simple Thresholding\n",
        "\n",
        " - Binary threshold\n",
        "\n",
        " - Inverted binary threshold\n",
        "\n",
        " - Truncated threshold\n",
        "\n",
        " - threshold set to zero\n",
        "\n",
        " - Inverted threshold set to zero\n",
        "\n",
        "- Adaptive Thresholding\n",
        "\n",
        " - Mean\n",
        "\n",
        " - Gaussian\n",
        "\n",
        "- Otsu Thresholding\n",
        "\n",
        "2) Image Smoothing\n",
        "\n",
        "3) Rescaling\n",
        "\n",
        "4) Denoising"
      ]
    },
    {
      "cell_type": "code",
      "metadata": {
        "id": "dA3USQyyxxOs"
      },
      "source": [
        ""
      ],
      "execution_count": null,
      "outputs": []
    },
    {
      "cell_type": "markdown",
      "metadata": {
        "id": "yf_wQr9-yu1_"
      },
      "source": [
        "#### **Reference**\n",
        "\n",
        "- https://www.letthedataconfess.com/blog/2021/09/21/image-pre-processing-using-opencv-part-2/"
      ]
    }
  ]
}