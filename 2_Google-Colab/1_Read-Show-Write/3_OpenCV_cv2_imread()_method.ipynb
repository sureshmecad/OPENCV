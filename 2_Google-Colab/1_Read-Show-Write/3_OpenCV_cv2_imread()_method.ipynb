{
  "nbformat": 4,
  "nbformat_minor": 0,
  "metadata": {
    "colab": {
      "name": "3_OpenCV_cv2.imread() method.ipynb",
      "provenance": [],
      "collapsed_sections": []
    },
    "kernelspec": {
      "name": "python3",
      "display_name": "Python 3"
    },
    "language_info": {
      "name": "python"
    }
  },
  "cells": [
    {
      "cell_type": "markdown",
      "metadata": {
        "id": "LiQz9Z3k23Jh"
      },
      "source": [
        "**Syntax:**\n",
        "\n",
        "     cv2.imread(path, flag)\n",
        "\n",
        "**Parameters:**\n",
        "\n",
        " - **path:** A string representing the path of the image to be read.\n",
        "\n",
        " - **flag:** It specifies the way in which image should be read. It’s **default** value is **cv2.IMREAD_COLOR**\n",
        "\n",
        " - **Return Value:** This method returns an image that is loaded from the specified file."
      ]
    },
    {
      "cell_type": "markdown",
      "metadata": {
        "id": "wu_0JYC22olj"
      },
      "source": [
        "     # Reading an image in default mode\n",
        "     image = cv2.imread(path)\n",
        "     \n",
        "     # Window name in which image is displayed\n",
        "     window_name = 'image'\n",
        "  \n",
        "     # Using cv2.imshow() method Displaying the image \n",
        "     cv2.imshow(window_name, image)\n",
        "\n",
        "     # waits for user to press any key (this is necessary to avoid Python kernel form crashing)\n",
        "     cv2.waitKey(0) \n",
        "  \n",
        "     # closing all open windows \n",
        "     cv2.destroyAllWindows()\n",
        "\n",
        "-------------------------------------------------------------------------------\n",
        "\n",
        "     # Reading an image in grayscale mode\n",
        "     image = cv2.imread(path, 0)\n",
        "     \n",
        "     # Window name in which image is displayed\n",
        "     window_name = 'image'\n",
        "  \n",
        "     # Using cv2.imshow() method Displaying the image \n",
        "     cv2.imshow(window_name, image)\n",
        "\n",
        "     # waits for user to press any key (this is necessary to avoid Python kernel form crashing)\n",
        "     cv2.waitKey(0) \n",
        "  \n",
        "     # closing all open windows \n",
        "     cv2.destroyAllWindows()"
      ]
    }
  ]
}