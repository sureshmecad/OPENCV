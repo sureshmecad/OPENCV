{
  "nbformat": 4,
  "nbformat_minor": 0,
  "metadata": {
    "colab": {
      "name": "1_OpenCV_cv2.imshow() method.ipynb",
      "provenance": [],
      "collapsed_sections": []
    },
    "kernelspec": {
      "name": "python3",
      "display_name": "Python 3"
    },
    "language_info": {
      "name": "python"
    }
  },
  "cells": [
    {
      "cell_type": "markdown",
      "metadata": {
        "id": "Xvix7PXZmm4k"
      },
      "source": [
        "- **cv2.imshow()** method is used to display an image in a window. The window automatically fits to the image size."
      ]
    },
    {
      "cell_type": "markdown",
      "metadata": {
        "id": "KC4I5Nj2n2la"
      },
      "source": [
        "**Syntax:**\n",
        "\n",
        "     cv2.imshow(window_name, image)\n",
        "\n",
        "**Parameters:** \n",
        "\n",
        " - **window_name:** A string representing the name of the window in which image to be displayed. \n",
        "\n",
        " - **image:** It is the image that is to be displayed.\n",
        "\n",
        " - **Return Value:** It doesn’t returns anything. "
      ]
    },
    {
      "cell_type": "markdown",
      "metadata": {
        "id": "w3tPgn2DoSx0"
      },
      "source": [
        "#### **Jupyter**\n",
        "\n",
        "     img_color = cv2.imread(path, 1)\n",
        "     img_grayscale = cv2.imread(path, 0)\n",
        "     img_unchanged = cv2.imread(path, -1)\n",
        "     \n",
        "     # Displays image inside a window\n",
        "     cv2.imshow('color image', img_color) \n",
        "     cv2.imshow('grayscale image', img_grayscale)\n",
        "     cv2.imshow('unchanged image', img_unchanged)\n",
        "\n",
        "     # Waits for a keystroke\n",
        "     cv2.waitKey(0) \n",
        "\n",
        "     # Destroys all the windows created\n",
        "     cv2.destroyAllwindows()\n",
        "\n",
        "--------------------------------------------------------------------------------\n",
        "\n",
        "#### **Colab**\n",
        "\n",
        "     img_color = cv2.imread(path, 1)\n",
        "     img_grayscale = cv2.imread(path, 0)\n",
        "     img_unchanged = cv2.imread(path, -1)\n",
        "     \n",
        "     # Displays image inside a window\n",
        "     from google.colab.patches import cv2_imshow\n",
        "     cv2_imshow(img_color) \n",
        "     cv2_imshow(img_grayscale)\n",
        "     cv2_imshow(img_unchanged)\n",
        "\n",
        "     # Waits for a keystroke\n",
        "     cv2.waitKey(0)"
      ]
    }
  ]
}