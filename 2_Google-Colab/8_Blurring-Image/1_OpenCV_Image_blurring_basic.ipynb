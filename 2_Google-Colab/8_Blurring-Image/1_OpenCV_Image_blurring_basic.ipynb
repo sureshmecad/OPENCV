{
  "nbformat": 4,
  "nbformat_minor": 0,
  "metadata": {
    "colab": {
      "name": "1_OpenCV_Image-blurring-basic.ipynb",
      "provenance": [],
      "collapsed_sections": []
    },
    "kernelspec": {
      "name": "python3",
      "display_name": "Python 3"
    },
    "language_info": {
      "name": "python"
    }
  },
  "cells": [
    {
      "cell_type": "markdown",
      "metadata": {
        "id": "FAmKrzCGfJIe"
      },
      "source": [
        "- **Image Blurring** refers to making the image **less clear or distinct**. It is done with the help of various low pass filter kernels.\n",
        "\n",
        " - It helps in **Noise removal**. As noise is considered as high pass signal so by the application of low pass filter kernel we restrict noise.\n",
        "\n",
        " - It helps in **smoothing** the image.\n",
        "\n",
        " - **Low intensity edges** are **removed**.\n",
        "\n",
        " - It helps in hiding the details when necessary. For **e.g.** in many cases **police** deliberately want to **hide the face of the victim**, in such cases **blurring** is required."
      ]
    },
    {
      "cell_type": "markdown",
      "metadata": {
        "id": "SPFx3CWEftTm"
      },
      "source": [
        "### **Important types of blurring:**\n",
        "\n",
        "- **Gaussian Blurring:**\n",
        " \n",
        " - Gaussian blur is the result of blurring an image by a **Gaussian function**. \n",
        " \n",
        " - It is a widely used effect in **graphics software**, typically to **reduce image noise and reduce detail**.\n",
        " \n",
        " - It is also used as a **preprocessing** stage before applying our **machine learning or deep learning models.**\n",
        "\n",
        " - E.g. of a Gaussian kernel(3×3)\n",
        "  \n",
        "     1/16 \\begin{bmatrix} 1 & 2 & 1 \\\\ 2 & 4 & 2\\\\ 1 & 2 & 1 \\\\  \\end{bmatrix}  \n",
        "\n",
        "- **Median Blur:**\n",
        "\n",
        " - The Median Filter is a non-linear digital filtering technique, often used to **remove noise** from an **image or signal**.\n",
        " \n",
        " - Median filtering is very widely used in **digital image processing** because, under certain conditions, it preserves edges while removing noise.\n",
        " \n",
        " - It is one of the best algorithms to remove Salt and pepper noise.\n",
        "\n",
        "- **Bilateral Blur:**\n",
        "\n",
        " -  A bilateral filter is a non-linear, edge-preserving, and noise-reducing smoothing filter for images.\n",
        " \n",
        " - It replaces the **intensity of each pixel** with a weighted average of intensity values from nearby pixels.\n",
        " \n",
        " - This weight can be based on a Gaussian distribution. Thus, sharp edges are preserved while discarding the weak ones."
      ]
    }
  ]
}