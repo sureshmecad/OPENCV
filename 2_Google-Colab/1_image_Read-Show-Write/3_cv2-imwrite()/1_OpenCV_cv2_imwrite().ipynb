{
  "nbformat": 4,
  "nbformat_minor": 0,
  "metadata": {
    "colab": {
      "name": "1_OpenCV_cv2-imwrite().ipynb",
      "provenance": [],
      "collapsed_sections": []
    },
    "kernelspec": {
      "name": "python3",
      "display_name": "Python 3"
    },
    "language_info": {
      "name": "python"
    }
  },
  "cells": [
    {
      "cell_type": "markdown",
      "metadata": {
        "id": "SMyNnuTnyAXb"
      },
      "source": [
        "- **cv2.imwrite()** method is used to **save** an image to any **storage device.** This will save the image according to the specified format in current **working directory.**"
      ]
    },
    {
      "cell_type": "markdown",
      "metadata": {
        "id": "t9RchMCFyQNr"
      },
      "source": [
        "**Syntax:**\n",
        "\n",
        "     cv2.imwrite(filename, image)\n",
        "\n",
        "     cv2.imwrite('grayscale.jpg',img_grayscale)\n",
        "\n",
        "**Parameters:**\n",
        "\n",
        " - **filename:** A string representing the file name. The filename must include image format like **.jpg, .png,** etc.\n",
        "\n",
        " - **image:** It is the image that is to be saved.\n",
        "\n",
        " - **Return Value:** It returns true if image is saved successfully."
      ]
    },
    {
      "cell_type": "markdown",
      "metadata": {
        "id": "4l6-Z1tqwyqH"
      },
      "source": [
        "**waitKey() and destroyAllWindows()** functions, along with the display function to,\n",
        "\n",
        " - **close** the image window on **key press**\n",
        "\n",
        " - **clear** any open image window from the **memory**."
      ]
    },
    {
      "cell_type": "code",
      "metadata": {
        "id": "mUUtxhLGwKkI"
      },
      "source": [
        "# Python program to explain cv2.imwrite() method\n",
        "  \n",
        "# importing cv2 \n",
        "import cv2\n",
        "  \n",
        "# importing os module  \n",
        "import os\n",
        "  \n",
        "# Image path\n",
        "image_path = r'C:\\Users\\Rajnish\\Desktop\\GeeksforGeeks\\geeks.png'\n",
        "  \n",
        "# Image directory\n",
        "directory = r'C:\\Users\\Rajnish\\Desktop\\GeeksforGeeks'\n",
        "  \n",
        "# Using cv2.imread() method\n",
        "# to read the image\n",
        "img = cv2.imread(image_path)\n",
        "  \n",
        "# Change the current directory \n",
        "# to specified directory \n",
        "os.chdir(directory)\n",
        "  \n",
        "# List files and directories  \n",
        "# in 'C:/Users/Rajnish/Desktop/GeeksforGeeks'  \n",
        "print(\"Before saving image:\")  \n",
        "print(os.listdir(directory))  \n",
        "  \n",
        "# Filename\n",
        "filename = 'savedImage.jpg'\n",
        "  \n",
        "# Using cv2.imwrite() method\n",
        "# Saving the image\n",
        "cv2.imwrite(filename, img)\n",
        "  \n",
        "# List files and directories  \n",
        "# in 'C:/Users / Rajnish / Desktop / GeeksforGeeks'  \n",
        "print(\"After saving image:\")  \n",
        "print(os.listdir(directory))\n",
        "  \n",
        "print('Successfully saved')"
      ],
      "execution_count": null,
      "outputs": []
    }
  ]
}